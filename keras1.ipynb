{
 "cells": [
  {
   "cell_type": "code",
   "execution_count": 1,
   "metadata": {},
   "outputs": [],
   "source": [
    "\n",
    "\n",
    "import numpy as np # linear algebra\n",
    "import pandas as pd # data processing, CSV file I/O (e.g. pd.read_csv)\n",
    "%matplotlib inline\n",
    "import matplotlib.pyplot as plt  # Matlab-style plotting\n",
    "import seaborn as sns\n",
    "color = sns.color_palette()\n",
    "sns.set_style('darkgrid')\n",
    "import warnings"
   ]
  },
  {
   "cell_type": "code",
   "execution_count": 2,
   "metadata": {},
   "outputs": [],
   "source": [
    "train = pd.read_csv('train.csv')\n",
    "test = pd.read_csv('test.csv')"
   ]
  },
  {
   "cell_type": "code",
   "execution_count": 3,
   "metadata": {},
   "outputs": [],
   "source": [
    "train = train.drop(train[(train['GrLivArea']>4000) & (train['SalePrice']<300000)].index)\n",
    "train[\"SalePrice\"] = np.log1p(train[\"SalePrice\"])"
   ]
  },
  {
   "cell_type": "code",
   "execution_count": 4,
   "metadata": {},
   "outputs": [
    {
     "name": "stdout",
     "output_type": "stream",
     "text": [
      "The train data size before dropping Id feature is : (1458, 81) \n",
      "The test data size before dropping Id feature is : (1459, 80) \n",
      "\n",
      "The train data size after dropping Id feature is : (1458, 80) \n",
      "The test data size after dropping Id feature is : (1459, 79) \n"
     ]
    }
   ],
   "source": [
    "print(\"The train data size before dropping Id feature is : {} \".format(train.shape))\n",
    "print(\"The test data size before dropping Id feature is : {} \".format(test.shape))\n",
    "\n",
    "#Save the 'Id' column\n",
    "train_ID = train['Id']\n",
    "test_ID = test['Id']\n",
    "\n",
    "#Now drop the  'Id' colum since it's unnecessary for  the prediction process.\n",
    "train.drop(\"Id\", axis = 1, inplace = True)\n",
    "test.drop(\"Id\", axis = 1, inplace = True)\n",
    "\n",
    "#check again the data size after dropping the 'Id' variable\n",
    "print(\"\\nThe train data size after dropping Id feature is : {} \".format(train.shape)) \n",
    "print(\"The test data size after dropping Id feature is : {} \".format(test.shape))"
   ]
  },
  {
   "cell_type": "code",
   "execution_count": null,
   "metadata": {},
   "outputs": [],
   "source": []
  },
  {
   "cell_type": "code",
   "execution_count": 5,
   "metadata": {},
   "outputs": [
    {
     "name": "stdout",
     "output_type": "stream",
     "text": [
      "all_data size is : (2917, 80)\n"
     ]
    },
    {
     "name": "stderr",
     "output_type": "stream",
     "text": [
      "C:\\Users\\josep\\Anaconda3\\lib\\site-packages\\ipykernel_launcher.py:4: FutureWarning: Sorting because non-concatenation axis is not aligned. A future version\n",
      "of pandas will change to not sort by default.\n",
      "\n",
      "To accept the future behavior, pass 'sort=True'.\n",
      "\n",
      "To retain the current behavior and silence the warning, pass sort=False\n",
      "\n",
      "  after removing the cwd from sys.path.\n"
     ]
    }
   ],
   "source": [
    "ntrain = train.shape[0]\n",
    "ntest = test.shape[0]\n",
    "y_train = train.SalePrice.values\n",
    "all_data = pd.concat((train, test)).reset_index(drop=True)\n",
    "\n",
    "print(\"all_data size is : {}\".format(all_data.shape))"
   ]
  },
  {
   "cell_type": "code",
   "execution_count": 6,
   "metadata": {},
   "outputs": [
    {
     "data": {
      "text/html": [
       "<div>\n",
       "<style scoped>\n",
       "    .dataframe tbody tr th:only-of-type {\n",
       "        vertical-align: middle;\n",
       "    }\n",
       "\n",
       "    .dataframe tbody tr th {\n",
       "        vertical-align: top;\n",
       "    }\n",
       "\n",
       "    .dataframe thead th {\n",
       "        text-align: right;\n",
       "    }\n",
       "</style>\n",
       "<table border=\"1\" class=\"dataframe\">\n",
       "  <thead>\n",
       "    <tr style=\"text-align: right;\">\n",
       "      <th></th>\n",
       "      <th>Missing Ratio</th>\n",
       "    </tr>\n",
       "  </thead>\n",
       "  <tbody>\n",
       "    <tr>\n",
       "      <th>PoolQC</th>\n",
       "      <td>99.691464</td>\n",
       "    </tr>\n",
       "    <tr>\n",
       "      <th>MiscFeature</th>\n",
       "      <td>96.400411</td>\n",
       "    </tr>\n",
       "    <tr>\n",
       "      <th>Alley</th>\n",
       "      <td>93.212204</td>\n",
       "    </tr>\n",
       "    <tr>\n",
       "      <th>Fence</th>\n",
       "      <td>80.425094</td>\n",
       "    </tr>\n",
       "    <tr>\n",
       "      <th>SalePrice</th>\n",
       "      <td>50.017141</td>\n",
       "    </tr>\n",
       "    <tr>\n",
       "      <th>FireplaceQu</th>\n",
       "      <td>48.680151</td>\n",
       "    </tr>\n",
       "    <tr>\n",
       "      <th>LotFrontage</th>\n",
       "      <td>16.660953</td>\n",
       "    </tr>\n",
       "    <tr>\n",
       "      <th>GarageQual</th>\n",
       "      <td>5.450806</td>\n",
       "    </tr>\n",
       "    <tr>\n",
       "      <th>GarageCond</th>\n",
       "      <td>5.450806</td>\n",
       "    </tr>\n",
       "    <tr>\n",
       "      <th>GarageFinish</th>\n",
       "      <td>5.450806</td>\n",
       "    </tr>\n",
       "    <tr>\n",
       "      <th>GarageYrBlt</th>\n",
       "      <td>5.450806</td>\n",
       "    </tr>\n",
       "    <tr>\n",
       "      <th>GarageType</th>\n",
       "      <td>5.382242</td>\n",
       "    </tr>\n",
       "    <tr>\n",
       "      <th>BsmtExposure</th>\n",
       "      <td>2.811107</td>\n",
       "    </tr>\n",
       "    <tr>\n",
       "      <th>BsmtCond</th>\n",
       "      <td>2.811107</td>\n",
       "    </tr>\n",
       "    <tr>\n",
       "      <th>BsmtQual</th>\n",
       "      <td>2.776826</td>\n",
       "    </tr>\n",
       "    <tr>\n",
       "      <th>BsmtFinType2</th>\n",
       "      <td>2.742544</td>\n",
       "    </tr>\n",
       "    <tr>\n",
       "      <th>BsmtFinType1</th>\n",
       "      <td>2.708262</td>\n",
       "    </tr>\n",
       "    <tr>\n",
       "      <th>MasVnrType</th>\n",
       "      <td>0.822763</td>\n",
       "    </tr>\n",
       "    <tr>\n",
       "      <th>MasVnrArea</th>\n",
       "      <td>0.788481</td>\n",
       "    </tr>\n",
       "    <tr>\n",
       "      <th>MSZoning</th>\n",
       "      <td>0.137127</td>\n",
       "    </tr>\n",
       "  </tbody>\n",
       "</table>\n",
       "</div>"
      ],
      "text/plain": [
       "              Missing Ratio\n",
       "PoolQC            99.691464\n",
       "MiscFeature       96.400411\n",
       "Alley             93.212204\n",
       "Fence             80.425094\n",
       "SalePrice         50.017141\n",
       "FireplaceQu       48.680151\n",
       "LotFrontage       16.660953\n",
       "GarageQual         5.450806\n",
       "GarageCond         5.450806\n",
       "GarageFinish       5.450806\n",
       "GarageYrBlt        5.450806\n",
       "GarageType         5.382242\n",
       "BsmtExposure       2.811107\n",
       "BsmtCond           2.811107\n",
       "BsmtQual           2.776826\n",
       "BsmtFinType2       2.742544\n",
       "BsmtFinType1       2.708262\n",
       "MasVnrType         0.822763\n",
       "MasVnrArea         0.788481\n",
       "MSZoning           0.137127"
      ]
     },
     "execution_count": 6,
     "metadata": {},
     "output_type": "execute_result"
    }
   ],
   "source": [
    "all_data_na = (all_data.isnull().sum() / len(all_data)) * 100\n",
    "all_data_na = all_data_na.drop(all_data_na[all_data_na == 0].index).sort_values(ascending=False)[:30]\n",
    "missing_data = pd.DataFrame({'Missing Ratio' :all_data_na})\n",
    "missing_data.head(20)"
   ]
  },
  {
   "cell_type": "code",
   "execution_count": 7,
   "metadata": {},
   "outputs": [],
   "source": [
    "all_data[\"PoolQC\"] = all_data[\"PoolQC\"].fillna(\"None\")"
   ]
  },
  {
   "cell_type": "code",
   "execution_count": 8,
   "metadata": {},
   "outputs": [],
   "source": [
    "all_data[\"MiscFeature\"] = all_data[\"MiscFeature\"].fillna(\"None\")\n",
    "all_data[\"Alley\"] = all_data[\"Alley\"].fillna(\"None\")\n",
    "all_data[\"Fence\"] = all_data[\"Fence\"].fillna(\"None\")\n",
    "all_data[\"FireplaceQu\"] = all_data[\"FireplaceQu\"].fillna(\"None\")\n",
    "all_data[\"LotFrontage\"] = all_data.groupby(\"Neighborhood\")[\"LotFrontage\"].transform(\n",
    "    lambda x: x.fillna(x.median()))"
   ]
  },
  {
   "cell_type": "code",
   "execution_count": 9,
   "metadata": {},
   "outputs": [],
   "source": [
    "for col in ('GarageType', 'GarageFinish', 'GarageQual', 'GarageCond'):\n",
    "    all_data[col] = all_data[col].fillna('None')"
   ]
  },
  {
   "cell_type": "code",
   "execution_count": 10,
   "metadata": {},
   "outputs": [],
   "source": [
    "for col in ('GarageYrBlt', 'GarageArea', 'GarageCars'):\n",
    "    all_data[col] = all_data[col].fillna(0)"
   ]
  },
  {
   "cell_type": "code",
   "execution_count": 11,
   "metadata": {},
   "outputs": [],
   "source": [
    "for col in ('BsmtFinSF1', 'BsmtFinSF2', 'BsmtUnfSF','TotalBsmtSF', 'BsmtFullBath', 'BsmtHalfBath'):\n",
    "    all_data[col] = all_data[col].fillna(0)"
   ]
  },
  {
   "cell_type": "code",
   "execution_count": 12,
   "metadata": {},
   "outputs": [],
   "source": [
    "for col in ('BsmtQual', 'BsmtCond', 'BsmtExposure', 'BsmtFinType1', 'BsmtFinType2'):\n",
    "    all_data[col] = all_data[col].fillna('None')"
   ]
  },
  {
   "cell_type": "code",
   "execution_count": 13,
   "metadata": {},
   "outputs": [],
   "source": [
    "all_data[\"MasVnrType\"] = all_data[\"MasVnrType\"].fillna(\"None\")\n",
    "all_data[\"MasVnrArea\"] = all_data[\"MasVnrArea\"].fillna(0)"
   ]
  },
  {
   "cell_type": "code",
   "execution_count": 14,
   "metadata": {},
   "outputs": [],
   "source": [
    "all_data['MSZoning'] = all_data['MSZoning'].fillna(all_data['MSZoning'].mode()[0])"
   ]
  },
  {
   "cell_type": "code",
   "execution_count": 15,
   "metadata": {},
   "outputs": [],
   "source": [
    "all_data = all_data.drop(['Utilities'], axis=1)\n",
    "all_data[\"Functional\"] = all_data[\"Functional\"].fillna(\"Typ\")\n",
    "all_data['Electrical'] = all_data['Electrical'].fillna(all_data['Electrical'].mode()[0])"
   ]
  },
  {
   "cell_type": "code",
   "execution_count": 16,
   "metadata": {},
   "outputs": [],
   "source": [
    "all_data['KitchenQual'] = all_data['KitchenQual'].fillna(all_data['KitchenQual'].mode()[0])"
   ]
  },
  {
   "cell_type": "code",
   "execution_count": 17,
   "metadata": {},
   "outputs": [],
   "source": [
    "all_data['Exterior1st'] = all_data['Exterior1st'].fillna(all_data['Exterior1st'].mode()[0])\n",
    "all_data['Exterior2nd'] = all_data['Exterior2nd'].fillna(all_data['Exterior2nd'].mode()[0])"
   ]
  },
  {
   "cell_type": "code",
   "execution_count": 18,
   "metadata": {},
   "outputs": [],
   "source": [
    "all_data['SaleType'] = all_data['SaleType'].fillna(all_data['SaleType'].mode()[0])"
   ]
  },
  {
   "cell_type": "code",
   "execution_count": 19,
   "metadata": {},
   "outputs": [],
   "source": [
    "all_data['MSSubClass'] = all_data['MSSubClass'].fillna(\"None\")"
   ]
  },
  {
   "cell_type": "code",
   "execution_count": 20,
   "metadata": {},
   "outputs": [
    {
     "data": {
      "text/html": [
       "<div>\n",
       "<style scoped>\n",
       "    .dataframe tbody tr th:only-of-type {\n",
       "        vertical-align: middle;\n",
       "    }\n",
       "\n",
       "    .dataframe tbody tr th {\n",
       "        vertical-align: top;\n",
       "    }\n",
       "\n",
       "    .dataframe thead th {\n",
       "        text-align: right;\n",
       "    }\n",
       "</style>\n",
       "<table border=\"1\" class=\"dataframe\">\n",
       "  <thead>\n",
       "    <tr style=\"text-align: right;\">\n",
       "      <th></th>\n",
       "      <th>Missing Ratio</th>\n",
       "    </tr>\n",
       "  </thead>\n",
       "  <tbody>\n",
       "    <tr>\n",
       "      <th>SalePrice</th>\n",
       "      <td>50.017141</td>\n",
       "    </tr>\n",
       "  </tbody>\n",
       "</table>\n",
       "</div>"
      ],
      "text/plain": [
       "           Missing Ratio\n",
       "SalePrice      50.017141"
      ]
     },
     "execution_count": 20,
     "metadata": {},
     "output_type": "execute_result"
    }
   ],
   "source": [
    "#Check remaining missing values if any \n",
    "all_data_na = (all_data.isnull().sum() / len(all_data)) * 100\n",
    "all_data_na = all_data_na.drop(all_data_na[all_data_na == 0].index).sort_values(ascending=False)\n",
    "missing_data = pd.DataFrame({'Missing Ratio' :all_data_na})\n",
    "missing_data.head()"
   ]
  },
  {
   "cell_type": "code",
   "execution_count": 21,
   "metadata": {},
   "outputs": [],
   "source": [
    "\n",
    "from scipy import stats\n",
    "from scipy.stats import norm, skew #for some statistics\n",
    "\n",
    "\n",
    "pd.set_option('display.float_format', lambda x: '{:.3f}'.format(x)) #Limiting floats output to 3 decimal points"
   ]
  },
  {
   "cell_type": "code",
   "execution_count": 22,
   "metadata": {},
   "outputs": [],
   "source": [
    "\n",
    "all_data['MSSubClass'] = all_data['MSSubClass'].apply(str)\n",
    "\n",
    "\n",
    "#Changing OverallCond into a categorical variable\n",
    "all_data['OverallCond'] = all_data['OverallCond'].astype(str)\n",
    "\n",
    "\n",
    "#Year and month sold are transformed into categorical features.\n",
    "all_data['YrSold'] = all_data['YrSold'].astype(str)\n",
    "all_data['MoSold'] = all_data['MoSold'].astype(str)"
   ]
  },
  {
   "cell_type": "code",
   "execution_count": 23,
   "metadata": {},
   "outputs": [
    {
     "name": "stdout",
     "output_type": "stream",
     "text": [
      "Shape all_data: (2917, 79)\n"
     ]
    }
   ],
   "source": [
    "from sklearn.preprocessing import LabelEncoder\n",
    "cols = ('FireplaceQu', 'BsmtQual', 'BsmtCond', 'GarageQual', 'GarageCond', \n",
    "        'ExterQual', 'ExterCond','HeatingQC', 'PoolQC', 'KitchenQual', 'BsmtFinType1', \n",
    "        'BsmtFinType2', 'Functional', 'Fence', 'BsmtExposure', 'GarageFinish', 'LandSlope',\n",
    "        'LotShape', 'PavedDrive', 'Street', 'Alley', 'CentralAir', 'MSSubClass', 'OverallCond', \n",
    "        'YrSold', 'MoSold')\n",
    "# process columns, apply LabelEncoder to categorical features\n",
    "for c in cols:\n",
    "    lbl = LabelEncoder() \n",
    "    lbl.fit(list(all_data[c].values)) \n",
    "    all_data[c] = lbl.transform(list(all_data[c].values))\n",
    "\n",
    "# shape        \n",
    "print('Shape all_data: {}'.format(all_data.shape))"
   ]
  },
  {
   "cell_type": "code",
   "execution_count": 24,
   "metadata": {},
   "outputs": [],
   "source": [
    "all_data['TotalSF'] = all_data['TotalBsmtSF'] + all_data['1stFlrSF'] + all_data['2ndFlrSF']"
   ]
  },
  {
   "cell_type": "code",
   "execution_count": 25,
   "metadata": {},
   "outputs": [
    {
     "name": "stdout",
     "output_type": "stream",
     "text": [
      "\n",
      "Skew in numerical features: \n",
      "\n"
     ]
    },
    {
     "data": {
      "text/html": [
       "<div>\n",
       "<style scoped>\n",
       "    .dataframe tbody tr th:only-of-type {\n",
       "        vertical-align: middle;\n",
       "    }\n",
       "\n",
       "    .dataframe tbody tr th {\n",
       "        vertical-align: top;\n",
       "    }\n",
       "\n",
       "    .dataframe thead th {\n",
       "        text-align: right;\n",
       "    }\n",
       "</style>\n",
       "<table border=\"1\" class=\"dataframe\">\n",
       "  <thead>\n",
       "    <tr style=\"text-align: right;\">\n",
       "      <th></th>\n",
       "      <th>Skew</th>\n",
       "    </tr>\n",
       "  </thead>\n",
       "  <tbody>\n",
       "    <tr>\n",
       "      <th>MiscVal</th>\n",
       "      <td>21.940</td>\n",
       "    </tr>\n",
       "    <tr>\n",
       "      <th>PoolArea</th>\n",
       "      <td>17.689</td>\n",
       "    </tr>\n",
       "    <tr>\n",
       "      <th>LotArea</th>\n",
       "      <td>13.109</td>\n",
       "    </tr>\n",
       "    <tr>\n",
       "      <th>LowQualFinSF</th>\n",
       "      <td>12.085</td>\n",
       "    </tr>\n",
       "    <tr>\n",
       "      <th>3SsnPorch</th>\n",
       "      <td>11.372</td>\n",
       "    </tr>\n",
       "    <tr>\n",
       "      <th>LandSlope</th>\n",
       "      <td>4.973</td>\n",
       "    </tr>\n",
       "    <tr>\n",
       "      <th>KitchenAbvGr</th>\n",
       "      <td>4.301</td>\n",
       "    </tr>\n",
       "    <tr>\n",
       "      <th>BsmtFinSF2</th>\n",
       "      <td>4.145</td>\n",
       "    </tr>\n",
       "    <tr>\n",
       "      <th>EnclosedPorch</th>\n",
       "      <td>4.002</td>\n",
       "    </tr>\n",
       "    <tr>\n",
       "      <th>ScreenPorch</th>\n",
       "      <td>3.945</td>\n",
       "    </tr>\n",
       "  </tbody>\n",
       "</table>\n",
       "</div>"
      ],
      "text/plain": [
       "                Skew\n",
       "MiscVal       21.940\n",
       "PoolArea      17.689\n",
       "LotArea       13.109\n",
       "LowQualFinSF  12.085\n",
       "3SsnPorch     11.372\n",
       "LandSlope      4.973\n",
       "KitchenAbvGr   4.301\n",
       "BsmtFinSF2     4.145\n",
       "EnclosedPorch  4.002\n",
       "ScreenPorch    3.945"
      ]
     },
     "execution_count": 25,
     "metadata": {},
     "output_type": "execute_result"
    }
   ],
   "source": [
    "numeric_feats = all_data.dtypes[all_data.dtypes != \"object\"].index\n",
    "\n",
    "# Check the skew of all numerical features\n",
    "skewed_feats = all_data[numeric_feats].apply(lambda x: skew(x.dropna())).sort_values(ascending=False)\n",
    "print(\"\\nSkew in numerical features: \\n\")\n",
    "skewness = pd.DataFrame({'Skew' :skewed_feats})\n",
    "skewness.head(10)"
   ]
  },
  {
   "cell_type": "code",
   "execution_count": 26,
   "metadata": {},
   "outputs": [
    {
     "name": "stdout",
     "output_type": "stream",
     "text": [
      "There are 60 skewed numerical features to Box Cox transform\n"
     ]
    }
   ],
   "source": [
    "skewness = skewness[abs(skewness) > 0.75]\n",
    "print(\"There are {} skewed numerical features to Box Cox transform\".format(skewness.shape[0]))\n",
    "\n",
    "from scipy.special import boxcox1p\n",
    "skewed_features = skewness.index\n",
    "lam = 0.15\n",
    "for feat in skewed_features:\n",
    "    #all_data[feat] += 1\n",
    "    all_data[feat] = boxcox1p(all_data[feat], lam)"
   ]
  },
  {
   "cell_type": "code",
   "execution_count": 30,
   "metadata": {},
   "outputs": [],
   "source": [
    "\n",
    "y = train.SalePrice"
   ]
  },
  {
   "cell_type": "code",
   "execution_count": 32,
   "metadata": {},
   "outputs": [],
   "source": [
    "train.drop(\"SalePrice\", axis = 1, inplace = True)"
   ]
  },
  {
   "cell_type": "code",
   "execution_count": 33,
   "metadata": {},
   "outputs": [],
   "source": [
    "X_train = all_data[:train.shape[0]]\n",
    "X_test = all_data[train.shape[0]:]"
   ]
  },
  {
   "cell_type": "code",
   "execution_count": 42,
   "metadata": {},
   "outputs": [
    {
     "data": {
      "text/plain": [
       "<bound method NDFrame.head of       1stFlrSF  2ndFlrSF  3SsnPorch  Alley  BedroomAbvGr BldgType  BsmtCond  \\\n",
       "0       11.693    11.686      0.000  0.730         1.541     1Fam     1.820   \n",
       "1       12.792     0.000      0.000  0.730         1.541     1Fam     1.820   \n",
       "2       11.892    11.725      0.000  0.730         1.541     1Fam     1.820   \n",
       "3       12.014    11.354      0.000  0.730         1.541     1Fam     0.730   \n",
       "4       12.511    12.271      0.000  0.730         1.820     1Fam     1.820   \n",
       "5       11.494    10.590      9.178  0.730         0.730     1Fam     1.820   \n",
       "6       13.670     0.000      0.000  0.730         1.541     1Fam     1.820   \n",
       "7       12.414    12.077      0.000  0.730         1.541     1Fam     1.820   \n",
       "8       12.187    11.340      0.000  0.730         1.194     1Fam     1.820   \n",
       "9       12.335     0.000      0.000  0.730         1.194   2fmCon     1.820   \n",
       "10      12.236     0.000      0.000  0.730         1.541     1Fam     1.820   \n",
       "11      12.602    12.503      0.000  0.730         1.820     1Fam     1.820   \n",
       "12      11.868     0.000      0.000  0.730         1.194     1Fam     1.820   \n",
       "13      13.291     0.000      0.000  0.730         1.541     1Fam     1.820   \n",
       "14      12.771     0.000      0.000  0.730         1.194     1Fam     1.820   \n",
       "15      11.686     0.000      0.000  0.730         1.194     1Fam     1.820   \n",
       "16      12.137     0.000      0.000  0.730         1.194     1Fam     1.820   \n",
       "17      12.870     0.000      0.000  0.730         1.194   Duplex     1.194   \n",
       "18      12.432     0.000      0.000  0.730         1.541     1Fam     1.820   \n",
       "19      12.966     0.000      0.000  0.730         1.541     1Fam     1.820   \n",
       "20      12.543    12.689      0.000  0.730         1.820     1Fam     1.820   \n",
       "21      12.416     0.000      0.000  0.000         1.541     1Fam     1.820   \n",
       "22      13.848     0.000      0.000  0.730         1.541     1Fam     1.820   \n",
       "23      12.290     0.000      0.000  0.730         1.541   TwnhsE     1.820   \n",
       "24      12.290     0.000      0.000  0.730         1.541     1Fam     1.820   \n",
       "25      13.497     0.000      0.000  0.730         1.541     1Fam     1.820   \n",
       "26      11.831     0.000      0.000  0.730         1.541     1Fam     1.820   \n",
       "27      13.688     0.000      0.000  0.730         1.541     1Fam     1.820   \n",
       "28      13.497     0.000      0.000  0.730         1.194     1Fam     1.820   \n",
       "29      10.372     0.000      0.000  0.730         0.730     1Fam     1.820   \n",
       "...        ...       ...        ...    ...           ...      ...       ...   \n",
       "2887    10.914     0.000      0.000  0.730         1.194     1Fam     1.820   \n",
       "2888    12.031    11.035      0.000  0.730         1.820     1Fam     1.820   \n",
       "2889    11.256     0.000      0.000  0.730         1.194     1Fam     1.194   \n",
       "2890    12.290     9.294      0.000  0.730         1.820   2fmCon     1.820   \n",
       "2891    10.635     9.460      0.000  0.730         1.194     1Fam     0.000   \n",
       "2892    13.818     0.000      0.000  0.730         1.194   TwnhsE     1.820   \n",
       "2893    13.583     0.000      0.000  0.730         1.194   TwnhsE     1.820   \n",
       "2894    13.544     0.000      0.000  0.730         1.541     1Fam     1.820   \n",
       "2895    13.616     0.000      0.000  0.730         1.820   Duplex     1.820   \n",
       "2896    13.285     0.000      0.000  0.730         1.541     1Fam     1.820   \n",
       "2897    12.670     0.000      0.000  0.730         1.541     1Fam     1.820   \n",
       "2898    13.590     0.000      0.000  0.730         1.194     1Fam     1.820   \n",
       "2899    13.104     0.000      0.000  0.730         1.194     1Fam     1.820   \n",
       "2900    14.120     0.000      0.000  0.730         1.541     1Fam     0.730   \n",
       "2901    13.920     0.000      0.000  0.730         1.541     1Fam     1.820   \n",
       "2902    13.497     0.000      0.000  0.730         1.541     1Fam     1.194   \n",
       "2903    13.029     0.000      0.000  0.730         1.194   Duplex     1.820   \n",
       "2904    10.810    11.101      0.000  0.730         1.541   TwnhsE     1.820   \n",
       "2905    11.750     0.000      0.000  0.730         1.541     1Fam     1.820   \n",
       "2906    13.594     0.000      0.000  0.730         1.820   Duplex     1.820   \n",
       "2907    10.869     0.000      0.000  0.730         0.730    Twnhs     1.820   \n",
       "2908    10.497    10.497      0.000  0.730         1.541   TwnhsE     1.820   \n",
       "2909    13.012     0.000      0.000  0.730         1.541     1Fam     1.820   \n",
       "2910    10.497    10.497      0.000  0.730         1.541    Twnhs     1.820   \n",
       "2911    10.497    10.497      0.000  0.730         1.541    Twnhs     1.820   \n",
       "2912    10.497    10.497      0.000  0.730         1.541    Twnhs     1.820   \n",
       "2913    10.497    10.497      0.000  0.730         1.541   TwnhsE     1.820   \n",
       "2914    12.703     0.000      0.000  0.730         1.820     1Fam     1.820   \n",
       "2915    12.040     0.000      0.000  0.730         1.541     1Fam     1.820   \n",
       "2916    12.114    12.137      0.000  0.730         1.541     1Fam     1.820   \n",
       "\n",
       "      BsmtExposure  BsmtFinSF1  BsmtFinSF2   ...    SaleType  ScreenPorch  \\\n",
       "0            1.541      11.170       0.000   ...          WD        0.000   \n",
       "1            0.730      12.063       0.000   ...          WD        0.000   \n",
       "2            1.194      10.200       0.000   ...          WD        0.000   \n",
       "3            1.541       8.274       0.000   ...          WD        0.000   \n",
       "4            0.000      10.971       0.000   ...          WD        0.000   \n",
       "5            1.541      11.267       0.000   ...          WD        0.000   \n",
       "6            0.000      13.031       0.000   ...          WD        0.000   \n",
       "7            1.194      11.702       4.597   ...          WD        0.000   \n",
       "8            1.541       0.000       0.000   ...          WD        0.000   \n",
       "9            1.541      11.677       0.000   ...          WD        0.000   \n",
       "10           1.541      11.849       0.000   ...          WD        0.000   \n",
       "11           1.541      12.120       0.000   ...         New        0.000   \n",
       "12           1.541      11.286       0.000   ...          WD        7.825   \n",
       "13           0.000       0.000       0.000   ...         New        0.000   \n",
       "14           1.541      11.271       0.000   ...          WD        0.000   \n",
       "15           1.541       0.000       0.000   ...          WD        0.000   \n",
       "16           1.541      10.644       0.000   ...          WD        0.000   \n",
       "17           1.820       0.000       0.000   ...          WD        0.000   \n",
       "18           1.541      10.935       0.000   ...          WD        0.000   \n",
       "19           1.541      10.292       0.000   ...         COD        0.000   \n",
       "20           0.000       0.000       0.000   ...         New        0.000   \n",
       "21           1.541       0.000       0.000   ...          WD        0.000   \n",
       "22           1.541       0.000       0.000   ...          WD        0.000   \n",
       "23           1.541      11.641       0.000   ...          WD        0.000   \n",
       "24           1.194       7.968      11.023   ...          WD        0.000   \n",
       "25           1.541       0.000       0.000   ...          WD        0.000   \n",
       "26           1.194       8.454      10.200   ...          WD        0.000   \n",
       "27           1.541      12.689       0.000   ...          WD        0.000   \n",
       "28           0.730      12.827       0.000   ...          WD        0.000   \n",
       "29           1.541       0.000       0.000   ...          WD        0.000   \n",
       "...            ...         ...         ...   ...         ...          ...   \n",
       "2887         1.541       0.000       0.000   ...          WD        0.000   \n",
       "2888         1.541       0.000       0.000   ...          WD        0.000   \n",
       "2889         1.820       0.000       0.000   ...          WD        0.000   \n",
       "2890         1.194       0.000       0.000   ...          WD        0.000   \n",
       "2891         1.541       0.000       0.000   ...          WD        0.000   \n",
       "2892         0.730      13.446       0.000   ...         New        7.525   \n",
       "2893         0.730      13.428       0.000   ...          WD        7.553   \n",
       "2894         0.730      11.425       0.000   ...          WD        0.000   \n",
       "2895         1.194       0.000       0.000   ...          WD        0.000   \n",
       "2896         1.541       0.000       0.000   ...          WD        0.000   \n",
       "2897         0.000      10.635       0.000   ...          WD        0.000   \n",
       "2898         0.730      11.859       0.000   ...          WD        7.309   \n",
       "2899         0.000      12.488       6.952   ...          WD        0.000   \n",
       "2900         0.000      12.990       0.000   ...         New        0.000   \n",
       "2901         0.730      13.212       0.000   ...         New        0.000   \n",
       "2902         1.820       0.000       0.000   ...          WD        0.000   \n",
       "2903         0.730      12.748       0.000   ...          WD        0.000   \n",
       "2904         1.194       0.000       0.000   ...          WD        0.000   \n",
       "2905         1.541       9.957       0.000   ...          WD        0.000   \n",
       "2906         1.541       7.469       0.000   ...          WD        0.000   \n",
       "2907         0.000      10.382       0.000   ...          WD        0.000   \n",
       "2908         1.541       8.622       0.000   ...          WD        0.000   \n",
       "2909         0.000       7.004       9.350   ...          WD        0.000   \n",
       "2910         1.541       9.764       0.000   ...          WD        0.000   \n",
       "2911         1.541       0.000       0.000   ...          WD        0.000   \n",
       "2912         1.541       0.000       0.000   ...          WD        0.000   \n",
       "2913         1.541       8.622       0.000   ...          WD        0.000   \n",
       "2914         1.541      12.703       0.000   ...          WD        0.000   \n",
       "2915         0.000       9.301       0.000   ...          WD        0.000   \n",
       "2916         0.000      11.361       0.000   ...          WD        0.000   \n",
       "\n",
       "      Street  TotRmsAbvGrd  TotalBsmtSF  WoodDeckSF  YearBuilt YearRemodAdd  \\\n",
       "0      0.730         2.603       11.693       0.000     14.188       14.188   \n",
       "1      0.730         2.260       12.792       9.010     14.145       14.145   \n",
       "2      0.730         2.260       11.892       0.000     14.184       14.186   \n",
       "3      0.730         2.440       11.354       0.000     14.048       14.136   \n",
       "4      0.730         2.750       12.511       8.014     14.183       14.183   \n",
       "5      0.730         2.056       11.494       4.970     14.172       14.175   \n",
       "6      0.730         2.440       13.656       8.649     14.189       14.191   \n",
       "7      0.730         2.440       12.414       8.464     14.140       14.140   \n",
       "8      0.730         2.603       11.987       6.448     14.073       14.104   \n",
       "9      0.730         2.056       12.100       0.000     14.086       14.104   \n",
       "10     0.730         2.056       12.236       0.000     14.128       14.128   \n",
       "11     0.730         3.011       12.585       7.441     14.191       14.192   \n",
       "12     0.730         1.820       11.868       7.339     14.123       14.123   \n",
       "13     0.730         2.440       13.291       7.620     14.192       14.194   \n",
       "14     0.730         2.056       12.771       0.000     14.120       14.120   \n",
       "15     0.730         2.056       11.615       5.285     14.070       14.184   \n",
       "16     0.730         2.056       12.137       0.000     14.136       14.136   \n",
       "17     0.730         2.260        0.000       0.000     14.131       14.131   \n",
       "18     0.730         2.260       12.432       0.000     14.189       14.189   \n",
       "19     0.730         2.260       12.206       0.000     14.117       14.128   \n",
       "20     0.730         2.750       12.543       8.511     14.191       14.192   \n",
       "21     0.730         2.260       10.898       0.000     14.072       14.104   \n",
       "22     0.730         2.440       13.817       7.762     14.186       14.186   \n",
       "23     0.730         2.260       12.236       6.655     14.145       14.145   \n",
       "24     0.730         2.260       12.290       9.752     14.132       14.184   \n",
       "25     0.730         2.440       13.432       0.000     14.194       14.194   \n",
       "26     0.730         2.056       11.831       8.336     14.105       14.183   \n",
       "27     0.730         2.440       13.688       0.000     14.194       14.195   \n",
       "28     0.730         2.260       13.271       8.930     14.115       14.178   \n",
       "29     0.730         1.820       10.372       5.322     14.067       14.104   \n",
       "...      ...           ...          ...         ...        ...          ...   \n",
       "2887   0.730         1.820       10.914       7.921     14.064       14.104   \n",
       "2888   0.730         2.260       12.031       0.000     14.115       14.115   \n",
       "2889   0.730         2.056        0.000       0.000     14.096       14.104   \n",
       "2890   0.730         2.603       10.991       0.000     14.105       14.105   \n",
       "2891   0.000         2.260        8.274       0.000     14.049       14.104   \n",
       "2892   0.730         2.056       13.446       7.071     14.191       14.192   \n",
       "2893   0.730         2.056       13.486       7.153     14.189       14.191   \n",
       "2894   0.730         2.260       13.544       7.278     14.150       14.150   \n",
       "2895   0.730         2.886       13.616       0.000     14.148       14.148   \n",
       "2896   0.730         2.440       13.285       7.021     14.184       14.184   \n",
       "2897   0.730         2.260       12.468       0.000     14.144       14.144   \n",
       "2898   0.730         2.260       13.557       0.000     14.117       14.117   \n",
       "2899   0.730         2.056       13.057       0.000     14.183       14.183   \n",
       "2900   0.730         2.603       13.731       7.775     14.191       14.192   \n",
       "2901   0.730         2.750       13.920       7.633     14.191       14.192   \n",
       "2902   0.730         2.260        0.000       0.000     14.105       14.105   \n",
       "2903   0.730         2.603       12.852       0.000     14.178       14.178   \n",
       "2904   0.730         2.056        8.729       7.353     14.147       14.147   \n",
       "2905   0.730         2.056       11.718       0.000     14.132       14.188   \n",
       "2906   0.730         2.603       13.594       0.000     14.136       14.136   \n",
       "2907   0.730         1.541       10.869       0.000     14.136       14.136   \n",
       "2908   0.730         2.056       10.497       0.000     14.139       14.139   \n",
       "2909   0.730         2.603       12.406       7.620     14.134       14.150   \n",
       "2910   0.730         2.056       10.497       0.000     14.136       14.136   \n",
       "2911   0.730         2.056       10.497       0.000     14.136       14.136   \n",
       "2912   0.730         2.056       10.497       0.000     14.136       14.136   \n",
       "2913   0.730         2.260       10.497       0.000     14.136       14.136   \n",
       "2914   0.730         2.440       12.703      10.137     14.120       14.177   \n",
       "2915   0.730         2.260       11.868       6.221     14.170       14.170   \n",
       "2916   0.730         2.750       12.114       7.991     14.172       14.173   \n",
       "\n",
       "     YrSold TotalSF  \n",
       "0     1.194  14.977  \n",
       "1     0.730  14.923  \n",
       "2     1.194  15.150  \n",
       "3     0.000  14.857  \n",
       "4     1.194  15.852  \n",
       "5     1.541  14.422  \n",
       "6     0.730  15.890  \n",
       "7     1.541  15.702  \n",
       "8     1.194  15.174  \n",
       "9     1.194  14.288  \n",
       "10    1.194  14.306  \n",
       "11    0.000  16.007  \n",
       "12    1.194  13.897  \n",
       "13    0.730  15.476  \n",
       "14    1.194  14.900  \n",
       "15    0.730  13.656  \n",
       "16    1.820  14.195  \n",
       "17    0.000  12.870  \n",
       "18    1.194  14.523  \n",
       "19    1.541  14.718  \n",
       "20    0.000  16.041  \n",
       "21    0.730  13.761  \n",
       "22    1.194  16.077  \n",
       "23    0.730  14.336  \n",
       "24    1.820  14.366  \n",
       "25    1.541  15.669  \n",
       "26    1.820  13.856  \n",
       "27    1.820  15.917  \n",
       "28    0.000  15.582  \n",
       "29    1.194  12.236  \n",
       "...     ...     ...  \n",
       "2887  0.000  12.838  \n",
       "2888  0.000  15.026  \n",
       "2889  0.000  11.256  \n",
       "2890  0.000  14.269  \n",
       "2891  0.000  12.528  \n",
       "2892  0.000  15.860  \n",
       "2893  0.000  15.747  \n",
       "2894  0.000  15.757  \n",
       "2895  0.000  15.837  \n",
       "2896  0.000  15.470  \n",
       "2897  0.000  14.677  \n",
       "2898  0.000  15.790  \n",
       "2899  0.000  15.243  \n",
       "2900  0.000  16.186  \n",
       "2901  0.000  16.175  \n",
       "2902  0.000  13.497  \n",
       "2903  0.000  15.089  \n",
       "2904  0.000  13.436  \n",
       "2905  0.000  13.749  \n",
       "2906  0.000  15.813  \n",
       "2907  0.000  12.788  \n",
       "2908  0.000  13.568  \n",
       "2909  0.000  14.845  \n",
       "2910  0.000  13.568  \n",
       "2911  0.000  13.568  \n",
       "2912  0.000  13.568  \n",
       "2913  0.000  13.568  \n",
       "2914  0.000  14.824  \n",
       "2915  0.000  13.994  \n",
       "2916  0.000  15.485  \n",
       "\n",
       "[2917 rows x 80 columns]>"
      ]
     },
     "execution_count": 42,
     "metadata": {},
     "output_type": "execute_result"
    }
   ],
   "source": [
    "all_data.head"
   ]
  },
  {
   "cell_type": "code",
   "execution_count": 35,
   "metadata": {},
   "outputs": [
    {
     "data": {
      "text/plain": [
       "(1459, 79)"
      ]
     },
     "execution_count": 35,
     "metadata": {},
     "output_type": "execute_result"
    }
   ],
   "source": [
    "test.shape"
   ]
  },
  {
   "cell_type": "code",
   "execution_count": null,
   "metadata": {},
   "outputs": [],
   "source": []
  },
  {
   "cell_type": "code",
   "execution_count": 40,
   "metadata": {},
   "outputs": [
    {
     "name": "stdout",
     "output_type": "stream",
     "text": [
      "Epoch 1/30\n"
     ]
    },
    {
     "ename": "ValueError",
     "evalue": "could not convert string to float: 'New'",
     "output_type": "error",
     "traceback": [
      "\u001b[1;31m---------------------------------------------------------------------------\u001b[0m",
      "\u001b[1;31mValueError\u001b[0m                                Traceback (most recent call last)",
      "\u001b[1;32m<ipython-input-40-20298fc1da33>\u001b[0m in \u001b[0;36m<module>\u001b[1;34m()\u001b[0m\n\u001b[0;32m      9\u001b[0m \u001b[0mmodel\u001b[0m\u001b[1;33m.\u001b[0m\u001b[0madd\u001b[0m\u001b[1;33m(\u001b[0m\u001b[0mDense\u001b[0m\u001b[1;33m(\u001b[0m\u001b[1;36m1\u001b[0m\u001b[1;33m,\u001b[0m \u001b[0mactivation\u001b[0m\u001b[1;33m=\u001b[0m\u001b[1;34m'softmax'\u001b[0m\u001b[1;33m)\u001b[0m\u001b[1;33m)\u001b[0m\u001b[1;33m\u001b[0m\u001b[0m\n\u001b[0;32m     10\u001b[0m \u001b[0mmodel\u001b[0m\u001b[1;33m.\u001b[0m\u001b[0mcompile\u001b[0m\u001b[1;33m(\u001b[0m\u001b[0mloss\u001b[0m\u001b[1;33m=\u001b[0m\u001b[1;34m'sparse_categorical_crossentropy'\u001b[0m\u001b[1;33m,\u001b[0m \u001b[0moptimizer\u001b[0m\u001b[1;33m=\u001b[0m\u001b[1;34m'adam'\u001b[0m\u001b[1;33m,\u001b[0m \u001b[0mmetrics\u001b[0m\u001b[1;33m=\u001b[0m\u001b[1;33m[\u001b[0m\u001b[1;34m'accuracy'\u001b[0m\u001b[1;33m]\u001b[0m\u001b[1;33m)\u001b[0m\u001b[1;33m\u001b[0m\u001b[0m\n\u001b[1;32m---> 11\u001b[1;33m \u001b[0mmodel\u001b[0m\u001b[1;33m.\u001b[0m\u001b[0mfit\u001b[0m\u001b[1;33m(\u001b[0m\u001b[0mX_train\u001b[0m\u001b[1;33m,\u001b[0m\u001b[0my\u001b[0m\u001b[1;33m,\u001b[0m\u001b[0mepochs\u001b[0m\u001b[1;33m=\u001b[0m\u001b[1;36m30\u001b[0m\u001b[1;33m,\u001b[0m\u001b[0mshuffle\u001b[0m\u001b[1;33m=\u001b[0m\u001b[1;32mTrue\u001b[0m\u001b[1;33m)\u001b[0m\u001b[1;33m\u001b[0m\u001b[0m\n\u001b[0m",
      "\u001b[1;32m~\\Anaconda3\\lib\\site-packages\\keras\\engine\\training.py\u001b[0m in \u001b[0;36mfit\u001b[1;34m(self, x, y, batch_size, epochs, verbose, callbacks, validation_split, validation_data, shuffle, class_weight, sample_weight, initial_epoch, steps_per_epoch, validation_steps, **kwargs)\u001b[0m\n\u001b[0;32m   1035\u001b[0m                                         \u001b[0minitial_epoch\u001b[0m\u001b[1;33m=\u001b[0m\u001b[0minitial_epoch\u001b[0m\u001b[1;33m,\u001b[0m\u001b[1;33m\u001b[0m\u001b[0m\n\u001b[0;32m   1036\u001b[0m                                         \u001b[0msteps_per_epoch\u001b[0m\u001b[1;33m=\u001b[0m\u001b[0msteps_per_epoch\u001b[0m\u001b[1;33m,\u001b[0m\u001b[1;33m\u001b[0m\u001b[0m\n\u001b[1;32m-> 1037\u001b[1;33m                                         validation_steps=validation_steps)\n\u001b[0m\u001b[0;32m   1038\u001b[0m \u001b[1;33m\u001b[0m\u001b[0m\n\u001b[0;32m   1039\u001b[0m     def evaluate(self, x=None, y=None,\n",
      "\u001b[1;32m~\\Anaconda3\\lib\\site-packages\\keras\\engine\\training_arrays.py\u001b[0m in \u001b[0;36mfit_loop\u001b[1;34m(model, f, ins, out_labels, batch_size, epochs, verbose, callbacks, val_f, val_ins, shuffle, callback_metrics, initial_epoch, steps_per_epoch, validation_steps)\u001b[0m\n\u001b[0;32m    197\u001b[0m                     \u001b[0mins_batch\u001b[0m\u001b[1;33m[\u001b[0m\u001b[0mi\u001b[0m\u001b[1;33m]\u001b[0m \u001b[1;33m=\u001b[0m \u001b[0mins_batch\u001b[0m\u001b[1;33m[\u001b[0m\u001b[0mi\u001b[0m\u001b[1;33m]\u001b[0m\u001b[1;33m.\u001b[0m\u001b[0mtoarray\u001b[0m\u001b[1;33m(\u001b[0m\u001b[1;33m)\u001b[0m\u001b[1;33m\u001b[0m\u001b[0m\n\u001b[0;32m    198\u001b[0m \u001b[1;33m\u001b[0m\u001b[0m\n\u001b[1;32m--> 199\u001b[1;33m                 \u001b[0mouts\u001b[0m \u001b[1;33m=\u001b[0m \u001b[0mf\u001b[0m\u001b[1;33m(\u001b[0m\u001b[0mins_batch\u001b[0m\u001b[1;33m)\u001b[0m\u001b[1;33m\u001b[0m\u001b[0m\n\u001b[0m\u001b[0;32m    200\u001b[0m                 \u001b[0mouts\u001b[0m \u001b[1;33m=\u001b[0m \u001b[0mto_list\u001b[0m\u001b[1;33m(\u001b[0m\u001b[0mouts\u001b[0m\u001b[1;33m)\u001b[0m\u001b[1;33m\u001b[0m\u001b[0m\n\u001b[0;32m    201\u001b[0m                 \u001b[1;32mfor\u001b[0m \u001b[0ml\u001b[0m\u001b[1;33m,\u001b[0m \u001b[0mo\u001b[0m \u001b[1;32min\u001b[0m \u001b[0mzip\u001b[0m\u001b[1;33m(\u001b[0m\u001b[0mout_labels\u001b[0m\u001b[1;33m,\u001b[0m \u001b[0mouts\u001b[0m\u001b[1;33m)\u001b[0m\u001b[1;33m:\u001b[0m\u001b[1;33m\u001b[0m\u001b[0m\n",
      "\u001b[1;32m~\\Anaconda3\\lib\\site-packages\\keras\\backend\\tensorflow_backend.py\u001b[0m in \u001b[0;36m__call__\u001b[1;34m(self, inputs)\u001b[0m\n\u001b[0;32m   2664\u001b[0m                 \u001b[1;32mreturn\u001b[0m \u001b[0mself\u001b[0m\u001b[1;33m.\u001b[0m\u001b[0m_legacy_call\u001b[0m\u001b[1;33m(\u001b[0m\u001b[0minputs\u001b[0m\u001b[1;33m)\u001b[0m\u001b[1;33m\u001b[0m\u001b[0m\n\u001b[0;32m   2665\u001b[0m \u001b[1;33m\u001b[0m\u001b[0m\n\u001b[1;32m-> 2666\u001b[1;33m             \u001b[1;32mreturn\u001b[0m \u001b[0mself\u001b[0m\u001b[1;33m.\u001b[0m\u001b[0m_call\u001b[0m\u001b[1;33m(\u001b[0m\u001b[0minputs\u001b[0m\u001b[1;33m)\u001b[0m\u001b[1;33m\u001b[0m\u001b[0m\n\u001b[0m\u001b[0;32m   2667\u001b[0m         \u001b[1;32melse\u001b[0m\u001b[1;33m:\u001b[0m\u001b[1;33m\u001b[0m\u001b[0m\n\u001b[0;32m   2668\u001b[0m             \u001b[1;32mif\u001b[0m \u001b[0mpy_any\u001b[0m\u001b[1;33m(\u001b[0m\u001b[0mis_tensor\u001b[0m\u001b[1;33m(\u001b[0m\u001b[0mx\u001b[0m\u001b[1;33m)\u001b[0m \u001b[1;32mfor\u001b[0m \u001b[0mx\u001b[0m \u001b[1;32min\u001b[0m \u001b[0minputs\u001b[0m\u001b[1;33m)\u001b[0m\u001b[1;33m:\u001b[0m\u001b[1;33m\u001b[0m\u001b[0m\n",
      "\u001b[1;32m~\\Anaconda3\\lib\\site-packages\\keras\\backend\\tensorflow_backend.py\u001b[0m in \u001b[0;36m_call\u001b[1;34m(self, inputs)\u001b[0m\n\u001b[0;32m   2617\u001b[0m                 array_vals.append(\n\u001b[0;32m   2618\u001b[0m                     np.asarray(value,\n\u001b[1;32m-> 2619\u001b[1;33m                                dtype=tf.as_dtype(tensor.dtype).as_numpy_dtype))\n\u001b[0m\u001b[0;32m   2620\u001b[0m         \u001b[1;32mif\u001b[0m \u001b[0mself\u001b[0m\u001b[1;33m.\u001b[0m\u001b[0mfeed_dict\u001b[0m\u001b[1;33m:\u001b[0m\u001b[1;33m\u001b[0m\u001b[0m\n\u001b[0;32m   2621\u001b[0m             \u001b[1;32mfor\u001b[0m \u001b[0mkey\u001b[0m \u001b[1;32min\u001b[0m \u001b[0msorted\u001b[0m\u001b[1;33m(\u001b[0m\u001b[0mself\u001b[0m\u001b[1;33m.\u001b[0m\u001b[0mfeed_dict\u001b[0m\u001b[1;33m.\u001b[0m\u001b[0mkeys\u001b[0m\u001b[1;33m(\u001b[0m\u001b[1;33m)\u001b[0m\u001b[1;33m)\u001b[0m\u001b[1;33m:\u001b[0m\u001b[1;33m\u001b[0m\u001b[0m\n",
      "\u001b[1;32m~\\Anaconda3\\lib\\site-packages\\numpy\\core\\numeric.py\u001b[0m in \u001b[0;36masarray\u001b[1;34m(a, dtype, order)\u001b[0m\n\u001b[0;32m    490\u001b[0m \u001b[1;33m\u001b[0m\u001b[0m\n\u001b[0;32m    491\u001b[0m     \"\"\"\n\u001b[1;32m--> 492\u001b[1;33m     \u001b[1;32mreturn\u001b[0m \u001b[0marray\u001b[0m\u001b[1;33m(\u001b[0m\u001b[0ma\u001b[0m\u001b[1;33m,\u001b[0m \u001b[0mdtype\u001b[0m\u001b[1;33m,\u001b[0m \u001b[0mcopy\u001b[0m\u001b[1;33m=\u001b[0m\u001b[1;32mFalse\u001b[0m\u001b[1;33m,\u001b[0m \u001b[0morder\u001b[0m\u001b[1;33m=\u001b[0m\u001b[0morder\u001b[0m\u001b[1;33m)\u001b[0m\u001b[1;33m\u001b[0m\u001b[0m\n\u001b[0m\u001b[0;32m    493\u001b[0m \u001b[1;33m\u001b[0m\u001b[0m\n\u001b[0;32m    494\u001b[0m \u001b[1;33m\u001b[0m\u001b[0m\n",
      "\u001b[1;31mValueError\u001b[0m: could not convert string to float: 'New'"
     ]
    }
   ],
   "source": [
    "from keras.models import Sequential\n",
    "from keras.layers.core import Dense\n",
    "\n",
    "model = Sequential()\n",
    "model.add(Dense(1, activation='relu', input_shape=(80,)))\n",
    "model.add(Dense(10, activation='relu'))\n",
    "model.add(Dense(10, activation='relu'))\n",
    "model.add(Dense(10, activation='relu'))\n",
    "model.add(Dense(1, activation='softmax'))\n",
    "model.compile(loss='sparse_categorical_crossentropy', optimizer='adam', metrics=['accuracy'])\n",
    "model.fit(X_train,y,epochs=30,shuffle=True)"
   ]
  },
  {
   "cell_type": "code",
   "execution_count": null,
   "metadata": {},
   "outputs": [],
   "source": []
  }
 ],
 "metadata": {
  "kernelspec": {
   "display_name": "Python 3",
   "language": "python",
   "name": "python3"
  },
  "language_info": {
   "codemirror_mode": {
    "name": "ipython",
    "version": 3
   },
   "file_extension": ".py",
   "mimetype": "text/x-python",
   "name": "python",
   "nbconvert_exporter": "python",
   "pygments_lexer": "ipython3",
   "version": "3.6.5"
  }
 },
 "nbformat": 4,
 "nbformat_minor": 2
}

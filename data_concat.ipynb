{
 "cells": [
  {
   "cell_type": "code",
   "execution_count": 1,
   "metadata": {},
   "outputs": [],
   "source": [
    "import numpy as np\n",
    "import pandas as pd\n",
    "import matplotlib.pyplot as pl"
   ]
  },
  {
   "cell_type": "code",
   "execution_count": 2,
   "metadata": {},
   "outputs": [],
   "source": [
    "data1 = pd.read_csv('0102.csv')\n",
    "data2 = pd.read_csv('0111.csv')\n",
    "data3 = pd.read_csv('0201.csv')\n",
    "data4 = pd.read_csv('0301.csv')\n",
    "data5 = pd.read_csv('0305.csv')\n",
    "data6 = pd.read_csv('0306.csv')\n",
    "data7 = pd.read_csv('0307.csv')\n",
    "data8 = pd.read_csv('0308.csv')\n",
    "data9 = pd.read_csv('0309.csv')\n",
    "data10 = pd.read_csv('0316.csv')\n",
    "data11 = pd.read_csv('0318.csv')\n",
    "data12 = pd.read_csv('0320.csv')\n",
    "data13= pd.read_csv('0321.csv')\n",
    "data14 = pd.read_csv('0401.csv')\n",
    "data15 = pd.read_csv('0502.csv')\n",
    "data16 = pd.read_csv('0601.csv')\n",
    "data17 = pd.read_csv('0703.csv')\n",
    "data18 = pd.read_csv('1001.csv')\n",
    "data19 = pd.read_csv('1201.csv')\n",
    "data20 = pd.read_csv('1401.csv')\n",
    "data21 = pd.read_csv('1404.csv')"
   ]
  },
  {
   "cell_type": "code",
   "execution_count": 3,
   "metadata": {},
   "outputs": [],
   "source": [
    "data = pd.concat([data1, data2, data3, data4, data5, data6, data7, data8, data9, data10, data11, data12, data13, data14, data15, data16, data17, data18, data19, data20, data21],axis=0, ignore_index = True)"
   ]
  },
  {
   "cell_type": "code",
   "execution_count": 4,
   "metadata": {},
   "outputs": [
    {
     "data": {
      "text/plain": [
       "(1060653, 194)"
      ]
     },
     "execution_count": 4,
     "metadata": {},
     "output_type": "execute_result"
    }
   ],
   "source": [
    "data.shape"
   ]
  },
  {
   "cell_type": "code",
   "execution_count": null,
   "metadata": {},
   "outputs": [],
   "source": [
    "data.to_csv('data_multispec.csv', header=True)"
   ]
  },
  {
   "cell_type": "code",
   "execution_count": null,
   "metadata": {},
   "outputs": [],
   "source": []
  }
 ],
 "metadata": {
  "kernelspec": {
   "display_name": "Python 3",
   "language": "python",
   "name": "python3"
  },
  "language_info": {
   "codemirror_mode": {
    "name": "ipython",
    "version": 3
   },
   "file_extension": ".py",
   "mimetype": "text/x-python",
   "name": "python",
   "nbconvert_exporter": "python",
   "pygments_lexer": "ipython3",
   "version": "3.7.3"
  }
 },
 "nbformat": 4,
 "nbformat_minor": 2
}
